{
 "cells": [
  {
   "cell_type": "code",
   "execution_count": 4,
   "metadata": {},
   "outputs": [
    {
     "name": "stdout",
     "output_type": "stream",
     "text": [
      "##### 숫자맞추기 게임 #####\n",
      "High\n",
      "High\n",
      "High\n",
      "Low\n",
      "High\n",
      "Low\n",
      "Low\n",
      "Low\n",
      "Low\n",
      "Low\n",
      "Win\n",
      "게임에서 이겼습니다!\n"
     ]
    }
   ],
   "source": [
    "import random\n",
    "com_number = random.randint(1,100)\n",
    "h_or_l =\" \"\n",
    "def is_same(target,number):\n",
    "\n",
    "    if target == number:\n",
    "        result = \"Win\"\n",
    "    elif target > number:\n",
    "        result = \"High\"\n",
    "    else:\n",
    "        result =\"Low\"\n",
    "    \n",
    "    print(result)\n",
    "    \n",
    "    return result\n",
    "\n",
    "print(\"##### 숫자맞추기 게임 #####\")\n",
    "\n",
    "\n",
    "while (h_or_l != \"Win\"):\n",
    "    guess = int(input(\"1~100까지중 숫자 하나 입력\"))\n",
    "    h_or_l = is_same(com_number,guess)\n",
    "\n",
    "print(\"게임에서 이겼습니다!\")"
   ]
  }
 ],
 "metadata": {
  "interpreter": {
   "hash": "1baa965d5efe3ac65b79dfc60c0d706280b1da80fedb7760faf2759126c4f253"
  },
  "kernelspec": {
   "display_name": "Python 3.8.6rc1 64-bit",
   "name": "python3"
  },
  "language_info": {
   "codemirror_mode": {
    "name": "ipython",
    "version": 3
   },
   "file_extension": ".py",
   "mimetype": "text/x-python",
   "name": "python",
   "nbconvert_exporter": "python",
   "pygments_lexer": "ipython3",
   "version": "3.8.6"
  },
  "orig_nbformat": 4
 },
 "nbformat": 4,
 "nbformat_minor": 2
}
